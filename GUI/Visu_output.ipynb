{
 "cells": [
  {
   "cell_type": "code",
   "execution_count": 126,
   "metadata": {},
   "outputs": [
    {
     "name": "stdout",
     "output_type": "stream",
     "text": [
      "/Users/sylvie/anaconda3/lib/python3.6/site-packages/ipykernel_launcher.py\n",
      "-f\n",
      "/Users/sylvie/Library/Jupyter/runtime/kernel-5a246107-d689-4c92-9263-60c260b2673b.json\n"
     ]
    }
   ],
   "source": [
    "# convert in python script by: jupyter nbconvert --to script Visu_output.ipynb\n",
    "# run python script by: python3 Visu_output.py --interactive=0 --printvar=-0-1- \n",
    "# or python3 Visu_output.py --interactive=0 --printvar=all (to print all variables)\n",
    "\n",
    "# Import the necessary packages and modules\n",
    "import matplotlib.pyplot as plt\n",
    "import numpy as np\n",
    "import glob\n",
    "import os\n",
    "\n",
    "\n",
    "print_interactive = False\n",
    "#variables_to_display=\"all\"\n",
    "variables_to_display=\"-1-\"\n",
    "\n",
    "# for reading arguments on command line (use as a script possibly called from the program)\n",
    "import sys\n",
    "import re\n",
    "print(sys.argv[0])\n",
    "nb_arguments=len(sys.argv)\n",
    "if (nb_arguments > 1):\n",
    "    for i in range(1,nb_arguments):\n",
    "        print(sys.argv[i])\n",
    "        if re.match(\"--interactive=*\",sys.argv[i]):\n",
    "            print_interactive = int((sys.argv[i]).split( \"=\", 1 )[1])\n",
    "        if re.match(\"--printvar=*\",sys.argv[i]):\n",
    "            variables_to_display= (sys.argv[i]).split( \"=\", 1 )[1]\n",
    "            \n",
    "os.chdir('../output')\n",
    "#print(glob.glob('x*outer.out'))\n",
    "filenames_outer = sorted(glob.glob('x*outer.out'))\n",
    "filenames_inner = sorted(glob.glob('x*inner.out'))\n",
    "filenames_inner_minimal = sorted(glob.glob('x*inner_minimal.out'))\n",
    "filenames_outer_minimal = sorted(glob.glob('x*outer_minimal.out'))\n",
    "filenames_inner_robust = sorted(glob.glob('x*inner_robust.out'))\n",
    "filenames_outer_robust = sorted(glob.glob('x*outer_robust.out'))"
   ]
  },
  {
   "cell_type": "code",
   "execution_count": 127,
   "metadata": {},
   "outputs": [],
   "source": [
    "# if print_robust = True: print robust approx\n",
    "# if print_minimal = True: print minimal approx\n",
    "# print maximal approx in any case\n",
    "# if only_one_graph = True, print all components on same graph\n",
    "# if subplots = True, print all components on one figure using subplots\n",
    "# if print_interactive = False, only print in files, otherwise do both\n",
    "def my_function(print_robust,print_minimal,only_one_graph,subplots,print_interactive,variables_to_display):\n",
    "    \n",
    "    nbsubplots = len(filenames_outer)\n",
    "    nbcols = min(3,nbsubplots)\n",
    "    nbrows = nbsubplots // nbcols\n",
    "    nbrows += nbsubplots % nbcols\n",
    "    position=range(1,nbsubplots+1)\n",
    "    \n",
    "    # larger figure if everything one one graph\n",
    "    if (only_one_graph):\n",
    "        width_in_inches = 10\n",
    "        height_in_inches = 8\n",
    "        dots_per_inch = 70\n",
    "        fig = plt.figure(figsize=(width_in_inches, height_in_inches), dpi=dots_per_inch)\n",
    "    \n",
    "    if (subplots):\n",
    "        width_in_inches = 12\n",
    "        height_in_inches = 4*nbrows\n",
    "        dots_per_inch = 70\n",
    "        fig = plt.figure(figsize=(width_in_inches, height_in_inches), dpi=dots_per_inch) \n",
    "    \n",
    "    if (print_robust and print_minimal):\n",
    "        extension = '_rob_min_max.png'\n",
    "    elif (print_minimal):\n",
    "        extension = '_min_max.png'\n",
    "    elif (print_robust):\n",
    "        extension = '_rob_max.png'\n",
    "    else:\n",
    "        extension = '_max.png'\n",
    "    \n",
    "    # print maximal outer and inner approximations for each component separately\n",
    "    for f_outer,f_inner,k in zip(filenames_outer, filenames_inner,range(nbsubplots)):\n",
    "        variable = f_outer.rsplit( \"outer\", 1 )[ 0 ]  # get variable name out of file names\n",
    "        variable_nb = '-' + variable.split( \"x\", 1 )[1] + '-'\n",
    "        # print only if variable is in list of variables to display\n",
    "        if re.match(variable_nb,variables_to_display) or re.match(\"all\",variables_to_display):  \n",
    "            if (subplots):\n",
    "                ax = fig.add_subplot(nbrows,nbcols,position[k])\n",
    "            with open(f_outer, 'r') as x_outer, open(f_inner, 'r') as x_inner:\n",
    "                lines_outer = x_outer.readlines()\n",
    "                t_outer = [float(line.split()[0]) for line in lines_outer]\n",
    "                xmin_outer = [float(line.split()[1]) for line in lines_outer]\n",
    "                xmax_outer = [float(line.split()[2]) for line in lines_outer]\n",
    "                lines_inner = x_inner.readlines()\n",
    "                t_inner = [float(line.split()[0]) for line in lines_inner]\n",
    "                xmin_inner = [float(line.split()[1]) for line in lines_inner]\n",
    "                xmax_inner = [float(line.split()[2]) for line in lines_inner]\n",
    "            if (subplots):\n",
    "                ax.plot(t_outer ,xmin_outer, t_outer, xmax_outer, color='black')\n",
    "                ax.fill_between(t_outer,xmin_outer,xmax_outer, label='maximal outer approx')\n",
    "                ax.plot(t_inner ,xmin_inner, t_inner, xmax_inner,  color='red')\n",
    "                ax.fill_between(t_inner,xmin_inner,xmax_inner, label='maximal inner approx')\n",
    "                ax.title.set_text(variable)\n",
    "            else:\n",
    "                plt.plot(t_outer ,xmin_outer, t_outer, xmax_outer, color='black')\n",
    "                plt.fill_between(t_outer,xmin_outer,xmax_outer, label='maximal outer approx')\n",
    "                plt.plot(t_inner ,xmin_inner, t_inner, xmax_inner,  color='red')\n",
    "                plt.fill_between(t_inner,xmin_inner,xmax_inner, label='maximal inner approx')\n",
    "\n",
    "            if ((len(filenames_inner_minimal) != 0) and print_minimal):\n",
    "                f_outer = variable + 'outer_minimal.out'\n",
    "                f_inner = variable + 'inner_minimal.out'\n",
    "                with open(f_outer, 'r') as x_outer, open(f_inner, 'r') as x_inner:\n",
    "                    lines_outer = x_outer.readlines()\n",
    "                    t_outer_min = [float(line.split()[0]) for line in lines_outer]\n",
    "                    xmin_outer_min = [float(line.split()[1]) for line in lines_outer]\n",
    "                    xmax_outer_min = [float(line.split()[2]) for line in lines_outer]\n",
    "                    lines_inner = x_inner.readlines()\n",
    "                    t_inner_min = [float(line.split()[0]) for line in lines_inner]\n",
    "                    xmin_inner_min = [float(line.split()[1]) for line in lines_inner]\n",
    "                    xmax_inner_min = [float(line.split()[2]) for line in lines_inner]\n",
    "                if (subplots):\n",
    "                    ax.plot(t_outer_min ,xmin_outer_min, t_outer_min, xmax_outer_min, color='black')\n",
    "                    ax.fill_between(t_outer_min,xmin_outer_min,xmax_outer_min, label='minimal outer approx')\n",
    "                    ax.plot(t_inner_min ,xmin_inner_min, t_inner_min, xmax_inner_min,  color='red')\n",
    "                    ax.fill_between(t_inner_min,xmin_inner_min,xmax_inner_min, label='minimal inner approx')\n",
    "                else:\n",
    "                    plt.plot(t_outer_min ,xmin_outer_min, t_outer_min, xmax_outer_min, color='black')\n",
    "                    plt.fill_between(t_outer_min,xmin_outer_min,xmax_outer_min, label='minimal outer approx')\n",
    "                    plt.plot(t_inner_min ,xmin_inner_min, t_inner_min, xmax_inner_min,  color='red')\n",
    "                    plt.fill_between(t_inner_min,xmin_inner_min,xmax_inner_min, label='minimal inner approx')\n",
    "\n",
    "            if ((len(filenames_inner_robust) != 0) and print_robust):\n",
    "                f_outer = variable + 'outer_robust.out'\n",
    "                f_inner = variable + 'inner_robust.out'\n",
    "                with open(f_outer, 'r') as x_outer, open(f_inner, 'r') as x_inner:\n",
    "                    lines_outer = x_outer.readlines()\n",
    "                    t_outer_min = [float(line.split()[0]) for line in lines_outer]\n",
    "                    xmin_outer_min = [float(line.split()[1]) for line in lines_outer]\n",
    "                    xmax_outer_min = [float(line.split()[2]) for line in lines_outer]\n",
    "                    lines_inner = x_inner.readlines()\n",
    "                    t_inner_min = [float(line.split()[0]) for line in lines_inner]\n",
    "                    xmin_inner_min = [float(line.split()[1]) for line in lines_inner]\n",
    "                    xmax_inner_min = [float(line.split()[2]) for line in lines_inner]\n",
    "                if (subplots):\n",
    "                    plt.plot(t_outer_min ,xmin_outer_min, t_outer_min, xmax_outer_min, color='black')\n",
    "                    plt.fill_between(t_outer_min,xmin_outer_min,xmax_outer_min, label='robust outer approx')\n",
    "                    plt.plot(t_inner_min ,xmin_inner_min, t_inner_min, xmax_inner_min,  color='red')\n",
    "                    plt.fill_between(t_inner_min,xmin_inner_min,xmax_inner_min, label='robust inner approx')\n",
    "                else:\n",
    "                    plt.plot(t_outer_min ,xmin_outer_min, t_outer_min, xmax_outer_min, color='black')\n",
    "                    plt.fill_between(t_outer_min,xmin_outer_min,xmax_outer_min, label='robust outer approx')\n",
    "                    plt.plot(t_inner_min ,xmin_inner_min, t_inner_min, xmax_inner_min,  color='red')\n",
    "                    plt.fill_between(t_inner_min,xmin_inner_min,xmax_inner_min, label='robust inner approx')\n",
    "\n",
    "            if ((not only_one_graph) and (not subplots)):\n",
    "                plt.legend() # add the legend specified by the above labels\n",
    "                plt.title(variable)\n",
    "                f_output = variable + extension\n",
    "                plt.savefig(f_output) # save to file\n",
    "                if (print_interactive):\n",
    "                    plt.show() # print \n",
    "    if (only_one_graph or subplots):\n",
    "        if (only_one_graph):\n",
    "            plt.title(\"All components\")\n",
    "            f_output = 'xi' + extension\n",
    "        if (subplots):\n",
    "            f_output = 'xi_subplots' + extension\n",
    "        plt.savefig(f_output)    \n",
    "        if (print_interactive):\n",
    "            plt.show() # print all components on same graph"
   ]
  },
  {
   "cell_type": "code",
   "execution_count": 128,
   "metadata": {},
   "outputs": [
    {
     "name": "stdout",
     "output_type": "stream",
     "text": [
      "['x1outer.out', 'x2outer.out']\n",
      "['x1inner.out', 'x2inner.out']\n",
      "-1-\n",
      "match\n",
      "-2-\n"
     ]
    }
   ],
   "source": [
    "print_robust = False\n",
    "print_minimal = True\n",
    "only_one_graph = False\n",
    "subplots = False\n",
    "\n",
    "my_function(print_robust,print_minimal,only_one_graph,subplots,print_interactive,variables_to_display)"
   ]
  },
  {
   "cell_type": "code",
   "execution_count": 129,
   "metadata": {},
   "outputs": [
    {
     "name": "stdout",
     "output_type": "stream",
     "text": [
      "-1-\n",
      "match\n",
      "-2-\n"
     ]
    }
   ],
   "source": [
    "print_robust = False\n",
    "print_minimal = False\n",
    "only_one_graph = False\n",
    "subplots = False\n",
    "\n",
    "my_function(print_robust,print_minimal,only_one_graph,subplots,print_interactive,variables_to_display)"
   ]
  },
  {
   "cell_type": "code",
   "execution_count": 130,
   "metadata": {},
   "outputs": [
    {
     "name": "stdout",
     "output_type": "stream",
     "text": [
      "-1-\n",
      "match\n",
      "-2-\n"
     ]
    }
   ],
   "source": [
    "print_robust = False\n",
    "print_minimal = False\n",
    "only_one_graph = True\n",
    "subplots = False\n",
    "my_function(print_robust,print_minimal,only_one_graph,subplots,print_interactive,variables_to_display)"
   ]
  },
  {
   "cell_type": "code",
   "execution_count": 131,
   "metadata": {},
   "outputs": [
    {
     "name": "stdout",
     "output_type": "stream",
     "text": [
      "-1-\n",
      "match\n",
      "-2-\n"
     ]
    }
   ],
   "source": [
    "print_robust = False\n",
    "print_minimal = True\n",
    "only_one_graph = False\n",
    "subplots = True\n",
    "my_function(print_robust,print_minimal,only_one_graph,subplots,print_interactive,variables_to_display)"
   ]
  },
  {
   "cell_type": "code",
   "execution_count": 132,
   "metadata": {},
   "outputs": [],
   "source": [
    "# plotting the width ratio: min over xi of the ratios ? A verifie\n",
    "with open(\"width_ratio.out\", 'r') as width_ratio:\n",
    "    lines = width_ratio.readlines()\n",
    "    t = [float(line.split()[0]) for line in lines]\n",
    "    ratio = [float(line.split()[1]) for line in lines]\n",
    "plt.plot(t , ratio, label='width(inner-approx)/width(over-approx)')\n",
    "plt.legend() # add the legend specified by the above labels\n",
    "plt.title(\"Min over all xi components of width ratios (a verifier)\")\n",
    "plt.savefig(\"width_ratio.png\") # save to file\n",
    "if (print_interactive):\n",
    "    plt.show() # print"
   ]
  },
  {
   "cell_type": "code",
   "execution_count": 133,
   "metadata": {},
   "outputs": [],
   "source": [
    "print_interactive = False\n",
    "\n",
    "# mean on xi of error between outer-approx and analytical solution if any\n",
    "with open(\"meanerror_diff.out\", 'r') as meanerror_diff, open(\"meanerror_inner.out\", 'r') as meanerror_inner, open(\"meanerror_outer.out\", 'r') as meanerror_outer :\n",
    "    lines1 = meanerror_diff.readlines()\n",
    "    lines2 = meanerror_inner.readlines()\n",
    "    lines3 = meanerror_outer.readlines()\n",
    "    t1 = [float(line.split()[0]) for line in lines1]\n",
    "    error1 = [float(line.split()[1]) for line in lines1]\n",
    "    t2 = [float(line.split()[0]) for line in lines2]\n",
    "    error2 = [float(line.split()[1]) for line in lines2]\n",
    "    t3 = [float(line.split()[0]) for line in lines3]\n",
    "    error3 = [float(line.split()[1]) for line in lines3]\n",
    "plt.plot(t1 , error1, label='Max distance between inner and over-approximation')\n",
    "if (os.stat(\"meanerror_inner.out\").st_size != 0):\n",
    "    plt.plot(t2, error2, label='Distance of inner approximation to exact solution')\n",
    "if (os.stat(\"meanerror_outer.out\").st_size != 0):    \n",
    "    plt.plot(t3, error3, label='Distance of outer approximation to exact solution')\n",
    "plt.legend() # add the legend specified by the above labels\n",
    "plt.title(\"Mean on xi of distance\")\n",
    "plt.savefig(\"meanerror.png\") # save to file\n",
    "if (print_interactive):\n",
    "    plt.show() # print"
   ]
  },
  {
   "cell_type": "code",
   "execution_count": 134,
   "metadata": {},
   "outputs": [],
   "source": [
    "# mean on xi of error between outer-approx and analytical solution if any\n",
    "with open(\"relmeanerror_diff.out\", 'r') as meanerror_diff, open(\"relmeanerror_inner.out\", 'r') as meanerror_inner, open(\"relmeanerror_outer.out\", 'r') as meanerror_outer :\n",
    "    lines1 = meanerror_diff.readlines()\n",
    "    lines2 = meanerror_inner.readlines()\n",
    "    lines3 = meanerror_outer.readlines()\n",
    "    t1 = [float(line.split()[0]) for line in lines1]\n",
    "    error1 = [float(line.split()[1]) for line in lines1]\n",
    "    t2 = [float(line.split()[0]) for line in lines2]\n",
    "    error2 = [float(line.split()[1]) for line in lines2]\n",
    "    t3 = [float(line.split()[0]) for line in lines3]\n",
    "    error3 = [float(line.split()[1]) for line in lines3]\n",
    "plt.plot(t1 , error1, label='Max relative distance between inner and over-approximation')\n",
    "if (os.stat(\"meanerror_inner.out\").st_size != 0):\n",
    "    plt.plot(t2, error2, label='Relative distance of inner approximation to exact solution')\n",
    "if (os.stat(\"meanerror_outer.out\").st_size != 0):    \n",
    "    plt.plot(t3, error3, label='Relative distance of outer approximation to exact solution')\n",
    "plt.legend() # add the legend specified by the above labels\n",
    "plt.title(\"Mean on xi of relative distance\")\n",
    "plt.savefig(\"meanrelativeerror.png\") # save to file\n",
    "if (print_interactive):\n",
    "    plt.show() # print"
   ]
  },
  {
   "cell_type": "code",
   "execution_count": null,
   "metadata": {
    "collapsed": true
   },
   "outputs": [],
   "source": []
  }
 ],
 "metadata": {
  "kernelspec": {
   "display_name": "Python 3",
   "language": "python",
   "name": "python3"
  },
  "language_info": {
   "codemirror_mode": {
    "name": "ipython",
    "version": 3
   },
   "file_extension": ".py",
   "mimetype": "text/x-python",
   "name": "python",
   "nbconvert_exporter": "python",
   "pygments_lexer": "ipython3",
   "version": "3.6.8"
  }
 },
 "nbformat": 4,
 "nbformat_minor": 2
}
